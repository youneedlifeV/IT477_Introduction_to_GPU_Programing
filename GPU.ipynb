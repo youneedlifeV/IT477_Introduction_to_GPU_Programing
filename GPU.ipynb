{
  "nbformat": 4,
  "nbformat_minor": 0,
  "metadata": {
    "colab": {
      "name": "GPU.ipynb",
      "provenance": [],
      "collapsed_sections": []
    },
    "kernelspec": {
      "name": "python3",
      "display_name": "Python 3"
    },
    "accelerator": "GPU"
  },
  "cells": [
    {
      "cell_type": "markdown",
      "metadata": {
        "id": "lYYht12FJeHS",
        "colab_type": "text"
      },
      "source": [
        "#Change Hardware accelerator to \"GPU\". \n",
        "\\#GoTo Runtime>'Change runtime type'>'Hardware accelerator'>GPU\n"
      ]
    },
    {
      "cell_type": "code",
      "metadata": {
        "id": "ynkHGm3rIGlk",
        "colab_type": "code",
        "colab": {}
      },
      "source": [
        "!rm -r sample_data/"
      ],
      "execution_count": 0,
      "outputs": []
    },
    {
      "cell_type": "code",
      "metadata": {
        "id": "-Ui-Rk4AHj7Z",
        "colab_type": "code",
        "colab": {}
      },
      "source": [
        "!/usr/local/cuda-10.0/bin/cuda-install-samples-10.0.sh /content/"
      ],
      "execution_count": 0,
      "outputs": []
    },
    {
      "cell_type": "markdown",
      "metadata": {
        "id": "rBi7vf_mMpNK",
        "colab_type": "text"
      },
      "source": [
        "#deviceQuery"
      ]
    },
    {
      "cell_type": "code",
      "metadata": {
        "id": "GAc_XkZFH7Sz",
        "colab_type": "code",
        "colab": {}
      },
      "source": [
        "!cd /content/NVIDIA_CUDA-10.0_Samples/1_Utilities/deviceQuery && make"
      ],
      "execution_count": 0,
      "outputs": []
    },
    {
      "cell_type": "code",
      "metadata": {
        "id": "atPa4CyiIWH8",
        "colab_type": "code",
        "colab": {}
      },
      "source": [
        "!/content/NVIDIA_CUDA-10.0_Samples/1_Utilities/deviceQuery/deviceQuery"
      ],
      "execution_count": 0,
      "outputs": []
    },
    {
      "cell_type": "markdown",
      "metadata": {
        "id": "PiRLIHW4PtMg",
        "colab_type": "text"
      },
      "source": [
        "#bandwidthTest"
      ]
    },
    {
      "cell_type": "code",
      "metadata": {
        "id": "DNMlR7sUP-dR",
        "colab_type": "code",
        "colab": {}
      },
      "source": [
        "!cd /content/NVIDIA_CUDA-10.0_Samples/1_Utilities/bandwidthTest && make"
      ],
      "execution_count": 0,
      "outputs": []
    },
    {
      "cell_type": "code",
      "metadata": {
        "id": "70euUOidQCo4",
        "colab_type": "code",
        "colab": {}
      },
      "source": [
        "!/content/NVIDIA_CUDA-10.0_Samples/1_Utilities/bandwidthTest/bandwidthTest"
      ],
      "execution_count": 0,
      "outputs": []
    },
    {
      "cell_type": "markdown",
      "metadata": {
        "id": "U9lE4aPzMtDk",
        "colab_type": "text"
      },
      "source": [
        "# Matrix multiplication sample"
      ]
    },
    {
      "cell_type": "code",
      "metadata": {
        "id": "TDutWYcDMjKu",
        "colab_type": "code",
        "colab": {}
      },
      "source": [
        "!cd /content/NVIDIA_CUDA-10.0_Samples/0_Simple/matrixMul && make"
      ],
      "execution_count": 0,
      "outputs": []
    },
    {
      "cell_type": "code",
      "metadata": {
        "id": "wcWEYxXOQX_X",
        "colab_type": "code",
        "colab": {}
      },
      "source": [
        "!/content/NVIDIA_CUDA-10.0_Samples/0_Simple/matrixMul/matrixMul"
      ],
      "execution_count": 0,
      "outputs": []
    },
    {
      "cell_type": "markdown",
      "metadata": {
        "id": "s4ssFr08L6NY",
        "colab_type": "text"
      },
      "source": [
        "#Check out cuda samples in NVIDIA_CUDA-10.0_Samples directory\n"
      ]
    },
    {
      "cell_type": "markdown",
      "metadata": {
        "id": "FPO04WKzM6Vg",
        "colab_type": "text"
      },
      "source": [
        "#Example of how to run own code\n",
        "I'm running here code of LAB2(Color image to Gray image). \\\\\n",
        "I'm cloning my git repo, you can also upload your files insted."
      ]
    },
    {
      "cell_type": "code",
      "metadata": {
        "id": "FhYIclwLKd0U",
        "colab_type": "code",
        "colab": {}
      },
      "source": [
        "!git clone https://github.com/youneedlifeV/IT477_Introduction_to_GPU_Programing.git"
      ],
      "execution_count": 0,
      "outputs": []
    },
    {
      "cell_type": "code",
      "metadata": {
        "id": "cVlbmYtLKu3a",
        "colab_type": "code",
        "colab": {}
      },
      "source": [
        "!unzip /content/IT477_Introduction_to_GPU_Programing/LAB2/RESOURCES/PPM_IMAGES.zip -d /content/IT477_Introduction_to_GPU_Programing/LAB2/"
      ],
      "execution_count": 0,
      "outputs": []
    },
    {
      "cell_type": "code",
      "metadata": {
        "id": "XsDkIXXiLQM4",
        "colab_type": "code",
        "colab": {}
      },
      "source": [
        "!cp /content/IT477_Introduction_to_GPU_Programing/LAB2/PPM2PGM* /content/IT477_Introduction_to_GPU_Programing/LAB2/PPM_IMAGES/"
      ],
      "execution_count": 0,
      "outputs": []
    },
    {
      "cell_type": "code",
      "metadata": {
        "id": "IljHtjlQLjfp",
        "colab_type": "code",
        "colab": {}
      },
      "source": [
        "!nvcc /content/IT477_Introduction_to_GPU_Programing/LAB2/PPM_IMAGES/PPM2PGM_Parallel.cu -o /content/IT477_Introduction_to_GPU_Programing/LAB2/PPM_IMAGES/PPM2PGM_Parallel"
      ],
      "execution_count": 0,
      "outputs": []
    },
    {
      "cell_type": "code",
      "metadata": {
        "id": "TEQA3P7aL2sh",
        "colab_type": "code",
        "colab": {}
      },
      "source": [
        "!cd /content/IT477_Introduction_to_GPU_Programing/LAB2/PPM_IMAGES/ && ./PPM2PGM_Parallel"
      ],
      "execution_count": 0,
      "outputs": []
    },
    {
      "cell_type": "code",
      "metadata": {
        "id": "i0f8skY-NJgn",
        "colab_type": "code",
        "colab": {}
      },
      "source": [
        "!cd /content/IT477_Introduction_to_GPU_Programing/LAB2/PPM_IMAGES/ && nvprof ./PPM2PGM_Parallel"
      ],
      "execution_count": 0,
      "outputs": []
    }
  ]
}