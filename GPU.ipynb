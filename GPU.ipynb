{
  "nbformat": 4,
  "nbformat_minor": 0,
  "metadata": {
    "colab": {
      "name": "GPU.ipynb",
      "provenance": [],
      "collapsed_sections": [],
      "include_colab_link": true
    },
    "kernelspec": {
      "name": "python3",
      "display_name": "Python 3"
    },
    "accelerator": "GPU"
  },
  "cells": [
    {
      "cell_type": "markdown",
      "metadata": {
        "id": "view-in-github",
        "colab_type": "text"
      },
      "source": [
        "<a href=\"https://colab.research.google.com/github/youneedlifeV/IT477_Introduction_to_GPU_Programing/blob/master/GPU.ipynb\" target=\"_parent\"><img src=\"https://colab.research.google.com/assets/colab-badge.svg\" alt=\"Open In Colab\"/></a>"
      ]
    },
    {
      "cell_type": "markdown",
      "metadata": {
        "id": "lYYht12FJeHS",
        "colab_type": "text"
      },
      "source": [
        "#Change Hardware accelerator to \"GPU\". \n",
        "\\#GoTo Runtime>'Change runtime type'>'Hardware accelerator'>GPU\n"
      ]
    },
    {
      "cell_type": "code",
      "metadata": {
        "id": "ynkHGm3rIGlk",
        "colab_type": "code",
        "colab": {}
      },
      "source": [
        "!rm -r sample_data/"
      ],
      "execution_count": 0,
      "outputs": []
    },
    {
      "cell_type": "code",
      "metadata": {
        "id": "-Ui-Rk4AHj7Z",
        "colab_type": "code",
        "colab": {
          "base_uri": "https://localhost:8080/",
          "height": 51
        },
        "outputId": "df083eed-f705-4c10-bba0-fd52dffcb7c8"
      },
      "source": [
        "!/usr/local/cuda-10.0/bin/cuda-install-samples-10.0.sh /content/"
      ],
      "execution_count": 2,
      "outputs": [
        {
          "output_type": "stream",
          "text": [
            "Copying samples to /content/NVIDIA_CUDA-10.0_Samples now...\n",
            "Finished copying samples.\n"
          ],
          "name": "stdout"
        }
      ]
    },
    {
      "cell_type": "markdown",
      "metadata": {
        "id": "rBi7vf_mMpNK",
        "colab_type": "text"
      },
      "source": [
        "#deviceQuery"
      ]
    },
    {
      "cell_type": "code",
      "metadata": {
        "id": "GAc_XkZFH7Sz",
        "colab_type": "code",
        "colab": {
          "base_uri": "https://localhost:8080/",
          "height": 105
        },
        "outputId": "467da783-ff14-4866-acef-d2fd5652d4f3"
      },
      "source": [
        "!cd /content/NVIDIA_CUDA-10.0_Samples/1_Utilities/deviceQuery && make"
      ],
      "execution_count": 3,
      "outputs": [
        {
          "output_type": "stream",
          "text": [
            "/usr/local/cuda-10.0/bin/nvcc -ccbin g++ -I../../common/inc  -m64    -gencode arch=compute_30,code=sm_30 -gencode arch=compute_35,code=sm_35 -gencode arch=compute_37,code=sm_37 -gencode arch=compute_50,code=sm_50 -gencode arch=compute_52,code=sm_52 -gencode arch=compute_60,code=sm_60 -gencode arch=compute_61,code=sm_61 -gencode arch=compute_70,code=sm_70 -gencode arch=compute_75,code=sm_75 -gencode arch=compute_75,code=compute_75 -o deviceQuery.o -c deviceQuery.cpp\n",
            "/usr/local/cuda-10.0/bin/nvcc -ccbin g++   -m64      -gencode arch=compute_30,code=sm_30 -gencode arch=compute_35,code=sm_35 -gencode arch=compute_37,code=sm_37 -gencode arch=compute_50,code=sm_50 -gencode arch=compute_52,code=sm_52 -gencode arch=compute_60,code=sm_60 -gencode arch=compute_61,code=sm_61 -gencode arch=compute_70,code=sm_70 -gencode arch=compute_75,code=sm_75 -gencode arch=compute_75,code=compute_75 -o deviceQuery deviceQuery.o \n",
            "mkdir -p ../../bin/x86_64/linux/release\n",
            "cp deviceQuery ../../bin/x86_64/linux/release\n"
          ],
          "name": "stdout"
        }
      ]
    },
    {
      "cell_type": "code",
      "metadata": {
        "id": "atPa4CyiIWH8",
        "colab_type": "code",
        "colab": {
          "base_uri": "https://localhost:8080/",
          "height": 765
        },
        "outputId": "e01fce34-cb0d-485a-b216-644fcae80d30"
      },
      "source": [
        "!/content/NVIDIA_CUDA-10.0_Samples/1_Utilities/deviceQuery/deviceQuery"
      ],
      "execution_count": 4,
      "outputs": [
        {
          "output_type": "stream",
          "text": [
            "/content/NVIDIA_CUDA-10.0_Samples/1_Utilities/deviceQuery/deviceQuery Starting...\n",
            "\n",
            " CUDA Device Query (Runtime API) version (CUDART static linking)\n",
            "\n",
            "Detected 1 CUDA Capable device(s)\n",
            "\n",
            "Device 0: \"Tesla K80\"\n",
            "  CUDA Driver Version / Runtime Version          10.1 / 10.0\n",
            "  CUDA Capability Major/Minor version number:    3.7\n",
            "  Total amount of global memory:                 11441 MBytes (11996954624 bytes)\n",
            "  (13) Multiprocessors, (192) CUDA Cores/MP:     2496 CUDA Cores\n",
            "  GPU Max Clock rate:                            824 MHz (0.82 GHz)\n",
            "  Memory Clock rate:                             2505 Mhz\n",
            "  Memory Bus Width:                              384-bit\n",
            "  L2 Cache Size:                                 1572864 bytes\n",
            "  Maximum Texture Dimension Size (x,y,z)         1D=(65536), 2D=(65536, 65536), 3D=(4096, 4096, 4096)\n",
            "  Maximum Layered 1D Texture Size, (num) layers  1D=(16384), 2048 layers\n",
            "  Maximum Layered 2D Texture Size, (num) layers  2D=(16384, 16384), 2048 layers\n",
            "  Total amount of constant memory:               65536 bytes\n",
            "  Total amount of shared memory per block:       49152 bytes\n",
            "  Total number of registers available per block: 65536\n",
            "  Warp size:                                     32\n",
            "  Maximum number of threads per multiprocessor:  2048\n",
            "  Maximum number of threads per block:           1024\n",
            "  Max dimension size of a thread block (x,y,z): (1024, 1024, 64)\n",
            "  Max dimension size of a grid size    (x,y,z): (2147483647, 65535, 65535)\n",
            "  Maximum memory pitch:                          2147483647 bytes\n",
            "  Texture alignment:                             512 bytes\n",
            "  Concurrent copy and kernel execution:          Yes with 2 copy engine(s)\n",
            "  Run time limit on kernels:                     No\n",
            "  Integrated GPU sharing Host Memory:            No\n",
            "  Support host page-locked memory mapping:       Yes\n",
            "  Alignment requirement for Surfaces:            Yes\n",
            "  Device has ECC support:                        Enabled\n",
            "  Device supports Unified Addressing (UVA):      Yes\n",
            "  Device supports Compute Preemption:            No\n",
            "  Supports Cooperative Kernel Launch:            No\n",
            "  Supports MultiDevice Co-op Kernel Launch:      No\n",
            "  Device PCI Domain ID / Bus ID / location ID:   0 / 0 / 4\n",
            "  Compute Mode:\n",
            "     < Default (multiple host threads can use ::cudaSetDevice() with device simultaneously) >\n",
            "\n",
            "deviceQuery, CUDA Driver = CUDART, CUDA Driver Version = 10.1, CUDA Runtime Version = 10.0, NumDevs = 1\n",
            "Result = PASS\n"
          ],
          "name": "stdout"
        }
      ]
    },
    {
      "cell_type": "markdown",
      "metadata": {
        "id": "PiRLIHW4PtMg",
        "colab_type": "text"
      },
      "source": [
        "#bandwidthTest"
      ]
    },
    {
      "cell_type": "code",
      "metadata": {
        "id": "DNMlR7sUP-dR",
        "colab_type": "code",
        "colab": {
          "base_uri": "https://localhost:8080/",
          "height": 105
        },
        "outputId": "4be7c8c9-a97f-41ae-eb47-edf38aa3f90d"
      },
      "source": [
        "!cd /content/NVIDIA_CUDA-10.0_Samples/1_Utilities/bandwidthTest && make"
      ],
      "execution_count": 5,
      "outputs": [
        {
          "output_type": "stream",
          "text": [
            "/usr/local/cuda-10.0/bin/nvcc -ccbin g++ -I../../common/inc  -m64    -gencode arch=compute_30,code=sm_30 -gencode arch=compute_35,code=sm_35 -gencode arch=compute_37,code=sm_37 -gencode arch=compute_50,code=sm_50 -gencode arch=compute_52,code=sm_52 -gencode arch=compute_60,code=sm_60 -gencode arch=compute_61,code=sm_61 -gencode arch=compute_70,code=sm_70 -gencode arch=compute_75,code=sm_75 -gencode arch=compute_75,code=compute_75 -o bandwidthTest.o -c bandwidthTest.cu\n",
            "/usr/local/cuda-10.0/bin/nvcc -ccbin g++   -m64      -gencode arch=compute_30,code=sm_30 -gencode arch=compute_35,code=sm_35 -gencode arch=compute_37,code=sm_37 -gencode arch=compute_50,code=sm_50 -gencode arch=compute_52,code=sm_52 -gencode arch=compute_60,code=sm_60 -gencode arch=compute_61,code=sm_61 -gencode arch=compute_70,code=sm_70 -gencode arch=compute_75,code=sm_75 -gencode arch=compute_75,code=compute_75 -o bandwidthTest bandwidthTest.o \n",
            "mkdir -p ../../bin/x86_64/linux/release\n",
            "cp bandwidthTest ../../bin/x86_64/linux/release\n"
          ],
          "name": "stdout"
        }
      ]
    },
    {
      "cell_type": "code",
      "metadata": {
        "id": "70euUOidQCo4",
        "colab_type": "code",
        "colab": {
          "base_uri": "https://localhost:8080/",
          "height": 425
        },
        "outputId": "e8a2dbdf-118d-4fb4-da8e-56ac8c7857fb"
      },
      "source": [
        "!/content/NVIDIA_CUDA-10.0_Samples/1_Utilities/bandwidthTest/bandwidthTest"
      ],
      "execution_count": 6,
      "outputs": [
        {
          "output_type": "stream",
          "text": [
            "[CUDA Bandwidth Test] - Starting...\n",
            "Running on...\n",
            "\n",
            " Device 0: Tesla K80\n",
            " Quick Mode\n",
            "\n",
            " Host to Device Bandwidth, 1 Device(s)\n",
            " PINNED Memory Transfers\n",
            "   Transfer Size (Bytes)\tBandwidth(MB/s)\n",
            "   33554432\t\t\t1121.7\n",
            "\n",
            " Device to Host Bandwidth, 1 Device(s)\n",
            " PINNED Memory Transfers\n",
            "   Transfer Size (Bytes)\tBandwidth(MB/s)\n",
            "   33554432\t\t\t2315.5\n",
            "\n",
            " Device to Device Bandwidth, 1 Device(s)\n",
            " PINNED Memory Transfers\n",
            "   Transfer Size (Bytes)\tBandwidth(MB/s)\n",
            "   33554432\t\t\t152430.7\n",
            "\n",
            "Result = PASS\n",
            "\n",
            "NOTE: The CUDA Samples are not meant for performance measurements. Results may vary when GPU Boost is enabled.\n"
          ],
          "name": "stdout"
        }
      ]
    },
    {
      "cell_type": "markdown",
      "metadata": {
        "id": "U9lE4aPzMtDk",
        "colab_type": "text"
      },
      "source": [
        "# Matrix multiplication sample"
      ]
    },
    {
      "cell_type": "code",
      "metadata": {
        "id": "TDutWYcDMjKu",
        "colab_type": "code",
        "colab": {
          "base_uri": "https://localhost:8080/",
          "height": 105
        },
        "outputId": "7c79ddcd-fa6f-45fe-ace7-9cb84e67b5cc"
      },
      "source": [
        "!cd /content/NVIDIA_CUDA-10.0_Samples/0_Simple/matrixMul && make"
      ],
      "execution_count": 7,
      "outputs": [
        {
          "output_type": "stream",
          "text": [
            "/usr/local/cuda-10.0/bin/nvcc -ccbin g++ -I../../common/inc  -m64    -gencode arch=compute_30,code=sm_30 -gencode arch=compute_35,code=sm_35 -gencode arch=compute_37,code=sm_37 -gencode arch=compute_50,code=sm_50 -gencode arch=compute_52,code=sm_52 -gencode arch=compute_60,code=sm_60 -gencode arch=compute_61,code=sm_61 -gencode arch=compute_70,code=sm_70 -gencode arch=compute_75,code=sm_75 -gencode arch=compute_75,code=compute_75 -o matrixMul.o -c matrixMul.cu\n",
            "/usr/local/cuda-10.0/bin/nvcc -ccbin g++   -m64      -gencode arch=compute_30,code=sm_30 -gencode arch=compute_35,code=sm_35 -gencode arch=compute_37,code=sm_37 -gencode arch=compute_50,code=sm_50 -gencode arch=compute_52,code=sm_52 -gencode arch=compute_60,code=sm_60 -gencode arch=compute_61,code=sm_61 -gencode arch=compute_70,code=sm_70 -gencode arch=compute_75,code=sm_75 -gencode arch=compute_75,code=compute_75 -o matrixMul matrixMul.o \n",
            "mkdir -p ../../bin/x86_64/linux/release\n",
            "cp matrixMul ../../bin/x86_64/linux/release\n"
          ],
          "name": "stdout"
        }
      ]
    },
    {
      "cell_type": "code",
      "metadata": {
        "id": "wcWEYxXOQX_X",
        "colab_type": "code",
        "colab": {
          "base_uri": "https://localhost:8080/",
          "height": 187
        },
        "outputId": "6b97bef7-afd0-4101-c6cf-e08ba6d2da86"
      },
      "source": [
        "!/content/NVIDIA_CUDA-10.0_Samples/0_Simple/matrixMul/matrixMul"
      ],
      "execution_count": 8,
      "outputs": [
        {
          "output_type": "stream",
          "text": [
            "[Matrix Multiply Using CUDA] - Starting...\n",
            "GPU Device 0: \"Tesla K80\" with compute capability 3.7\n",
            "\n",
            "MatrixA(320,320), MatrixB(640,320)\n",
            "Computing result using CUDA Kernel...\n",
            "done\n",
            "Performance= 227.48 GFlop/s, Time= 0.576 msec, Size= 131072000 Ops, WorkgroupSize= 1024 threads/block\n",
            "Checking computed result for correctness: Result = PASS\n",
            "\n",
            "NOTE: The CUDA Samples are not meant for performancemeasurements. Results may vary when GPU Boost is enabled.\n"
          ],
          "name": "stdout"
        }
      ]
    },
    {
      "cell_type": "markdown",
      "metadata": {
        "id": "s4ssFr08L6NY",
        "colab_type": "text"
      },
      "source": [
        "#Check out cuda samples in NVIDIA_CUDA-10.0_Samples directory\n"
      ]
    },
    {
      "cell_type": "markdown",
      "metadata": {
        "id": "FPO04WKzM6Vg",
        "colab_type": "text"
      },
      "source": [
        "#Example of how to run own code\n",
        "I'm running here code of LAB2(Color image to Gray image). \\\\\n",
        "I'm cloning my github repo, you can also upload your files insted."
      ]
    },
    {
      "cell_type": "code",
      "metadata": {
        "id": "FhYIclwLKd0U",
        "colab_type": "code",
        "colab": {
          "base_uri": "https://localhost:8080/",
          "height": 119
        },
        "outputId": "03256d33-ff2c-464f-db61-e1cc3410d789"
      },
      "source": [
        "!git clone https://github.com/youneedlifeV/IT477_Introduction_to_GPU_Programing.git"
      ],
      "execution_count": 9,
      "outputs": [
        {
          "output_type": "stream",
          "text": [
            "Cloning into 'IT477_Introduction_to_GPU_Programing'...\n",
            "remote: Enumerating objects: 61, done.\u001b[K\n",
            "remote: Counting objects: 100% (61/61), done.\u001b[K\n",
            "remote: Compressing objects: 100% (43/43), done.\u001b[K\n",
            "remote: Total 61 (delta 20), reused 53 (delta 16), pack-reused 0\u001b[K\n",
            "Unpacking objects: 100% (61/61), done.\n"
          ],
          "name": "stdout"
        }
      ]
    },
    {
      "cell_type": "code",
      "metadata": {
        "id": "cVlbmYtLKu3a",
        "colab_type": "code",
        "colab": {
          "base_uri": "https://localhost:8080/",
          "height": 221
        },
        "outputId": "3c8a3c72-2f6e-455e-f231-329f0baf657c"
      },
      "source": [
        "!unzip /content/IT477_Introduction_to_GPU_Programing/LAB2/RESOURCES/PPM_IMAGES.zip -d /content/IT477_Introduction_to_GPU_Programing/LAB2/"
      ],
      "execution_count": 10,
      "outputs": [
        {
          "output_type": "stream",
          "text": [
            "Archive:  /content/IT477_Introduction_to_GPU_Programing/LAB2/RESOURCES/PPM_IMAGES.zip\n",
            "   creating: /content/IT477_Introduction_to_GPU_Programing/LAB2/PPM_IMAGES/\n",
            "  inflating: /content/IT477_Introduction_to_GPU_Programing/LAB2/PPM_IMAGES/J00.ppm  \n",
            "  inflating: /content/IT477_Introduction_to_GPU_Programing/LAB2/PPM_IMAGES/J10.ppm  \n",
            "  inflating: /content/IT477_Introduction_to_GPU_Programing/LAB2/PPM_IMAGES/J20.ppm  \n",
            "  inflating: /content/IT477_Introduction_to_GPU_Programing/LAB2/PPM_IMAGES/J30.ppm  \n",
            "  inflating: /content/IT477_Introduction_to_GPU_Programing/LAB2/PPM_IMAGES/J40.ppm  \n",
            "  inflating: /content/IT477_Introduction_to_GPU_Programing/LAB2/PPM_IMAGES/J50.ppm  \n",
            "  inflating: /content/IT477_Introduction_to_GPU_Programing/LAB2/PPM_IMAGES/J60.ppm  \n",
            "  inflating: /content/IT477_Introduction_to_GPU_Programing/LAB2/PPM_IMAGES/J70.ppm  \n",
            "  inflating: /content/IT477_Introduction_to_GPU_Programing/LAB2/PPM_IMAGES/J80.ppm  \n",
            "  inflating: /content/IT477_Introduction_to_GPU_Programing/LAB2/PPM_IMAGES/J90.ppm  \n"
          ],
          "name": "stdout"
        }
      ]
    },
    {
      "cell_type": "code",
      "metadata": {
        "id": "XsDkIXXiLQM4",
        "colab_type": "code",
        "colab": {}
      },
      "source": [
        "!cp /content/IT477_Introduction_to_GPU_Programing/LAB2/PPM2PGM* /content/IT477_Introduction_to_GPU_Programing/LAB2/PPM_IMAGES/"
      ],
      "execution_count": 0,
      "outputs": []
    },
    {
      "cell_type": "code",
      "metadata": {
        "id": "IljHtjlQLjfp",
        "colab_type": "code",
        "colab": {}
      },
      "source": [
        "!nvcc /content/IT477_Introduction_to_GPU_Programing/LAB2/PPM_IMAGES/PPM2PGM_Parallel.cu -o /content/IT477_Introduction_to_GPU_Programing/LAB2/PPM_IMAGES/PPM2PGM_Parallel"
      ],
      "execution_count": 0,
      "outputs": []
    },
    {
      "cell_type": "code",
      "metadata": {
        "id": "TEQA3P7aL2sh",
        "colab_type": "code",
        "colab": {
          "base_uri": "https://localhost:8080/",
          "height": 649
        },
        "outputId": "6ba2cefb-ec1c-4db8-b218-a240542b7fcb"
      },
      "source": [
        "!cd /content/IT477_Introduction_to_GPU_Programing/LAB2/PPM_IMAGES/ && ./PPM2PGM_Parallel"
      ],
      "execution_count": 13,
      "outputs": [
        {
          "output_type": "stream",
          "text": [
            "Serial Computation Time: \n",
            "I\tTime\n",
            "0\t3.433000\n",
            "1\t14.314000\n",
            "2\t32.412000\n",
            "3\t60.780000\n",
            "4\t87.930000\n",
            "5\t129.227000\n",
            "6\t173.660000\n",
            "7\t232.688000\n",
            "8\t285.371000\n",
            "9\t352.461000\n",
            "Parallel Computation Time: \n",
            "0,1,2,4,8,16,32,64,128,256,512,1024\n",
            "0,1.654432,0.590656,0.321920,0.192000,0.134944,0.094496,0.074848,0.063328,0.067936,0.067968,0.061120\n",
            "1,6.323616,2.882688,1.501216,0.790528,0.420736,0.233696,0.136608,0.110880,0.108832,0.115104,0.122400\n",
            "2,14.127488,6.445472,3.332448,1.694048,0.875392,0.467456,0.273216,0.177728,0.164608,0.184704,0.199552\n",
            "3,25.089439,11.410944,5.883648,2.983712,1.500736,0.783584,0.450400,0.268320,0.272736,0.281056,0.320032\n",
            "4,39.079266,17.778400,9.169408,4.618816,2.330688,1.209760,0.647328,0.383488,0.383200,0.411104,0.463392\n",
            "5,56.353825,25.628063,13.166656,6.640768,3.320544,1.719040,0.929440,0.534176,0.547392,0.560256,0.624096\n",
            "6,76.757919,34.858528,17.914528,9.022432,4.492736,2.301088,1.209536,0.697984,0.711808,0.756192,0.848640\n",
            "7,101.157661,44.977856,22.951584,11.686688,5.652896,2.863648,1.559232,0.911360,0.921920,0.979872,1.092608\n",
            "8,117.192001,57.563774,29.573153,14.858688,7.413568,3.802784,1.994368,1.131072,1.159776,1.209632,1.362048\n",
            "9,140.861633,71.092896,36.503426,18.342527,9.121824,4.656256,2.443392,1.381120,1.418528,1.479584,1.664928\n",
            "Speed Up: \n",
            "0,1,2,4,8,16,32,64,128,256,512,1024\n",
            "0,2.075032,5.812182,10.664140,17.880208,25.440181,36.329581,45.866287,54.209830,50.532852,50.509061,56.168194\n",
            "1,2.263578,4.965504,9.534937,18.106886,34.021333,61.250514,104.781561,129.094514,131.523814,124.357106,116.944444\n",
            "2,2.294251,5.028647,9.726183,19.132869,37.025697,69.337005,118.631409,182.368566,196.904158,175.480764,162.423830\n",
            "3,2.422533,5.326466,10.330326,20.370599,40.500128,77.566668,134.946716,226.520577,222.852858,216.255845,189.918508\n",
            "4,2.250042,4.945889,9.589496,19.037347,37.727057,72.683841,135.835307,229.290095,229.462428,213.887487,189.752956\n",
            "5,2.293136,5.042402,9.814717,19.459647,38.917418,75.173933,139.037482,241.918398,236.077614,230.657055,207.062703\n",
            "6,2.262438,4.981851,9.693808,19.247581,38.653508,75.468645,143.575723,248.802272,243.970275,229.650662,204.633290\n",
            "7,2.300251,5.173390,10.138211,19.910516,41.162619,81.255799,149.232443,255.319515,252.395001,237.467754,212.965680\n",
            "8,2.435072,4.957476,9.649664,19.205666,38.493071,75.042654,143.088440,252.301347,246.057003,235.915544,209.516106\n",
            "9,2.502179,4.957753,9.655560,19.215509,38.639310,75.696221,144.250695,255.199410,248.469547,238.216286,211.697448\n"
          ],
          "name": "stdout"
        }
      ]
    },
    {
      "cell_type": "code",
      "metadata": {
        "id": "i0f8skY-NJgn",
        "colab_type": "code",
        "colab": {
          "base_uri": "https://localhost:8080/",
          "height": 1000
        },
        "outputId": "9b5ecf9a-5c39-4c41-d28b-af1774d4a44d"
      },
      "source": [
        "!cd /content/IT477_Introduction_to_GPU_Programing/LAB2/PPM_IMAGES/ && nvprof ./PPM2PGM_Parallel"
      ],
      "execution_count": 14,
      "outputs": [
        {
          "output_type": "stream",
          "text": [
            "Serial Computation Time: \n",
            "I\tTime\n",
            "0\t3.577000\n",
            "1\t14.831000\n",
            "2\t30.627000\n",
            "3\t53.538000\n",
            "4\t84.326000\n",
            "5\t128.272000\n",
            "6\t168.149000\n",
            "7\t217.781000\n",
            "8\t281.428000\n",
            "9\t357.334000\n",
            "==531== NVPROF is profiling process 531, command: ./PPM2PGM_Parallel\n",
            "Parallel Computation Time: \n",
            "0,1,2,4,8,16,32,64,128,256,512,1024\n",
            "0,2.111232,0.981152,0.519072,0.300992,0.181632,0.120704,0.082592,0.089248,0.084320,0.082720,0.088640\n",
            "1,8.300256,4.319520,2.248320,1.148832,0.607360,0.333376,0.199360,0.143552,0.149728,0.150336,0.167232\n",
            "2,18.617279,9.640448,4.977888,2.534112,1.286368,0.688800,0.391072,0.263328,0.267008,0.274400,0.316192\n",
            "3,33.056320,17.088097,8.787232,4.440384,2.238080,1.188288,0.651744,0.417056,0.412800,0.451904,0.499296\n",
            "4,51.523998,26.661345,13.710240,6.914176,3.490144,1.785760,0.988672,0.629056,0.634912,0.666560,0.769184\n",
            "5,74.346367,38.392769,19.712799,9.919744,4.994784,2.556896,1.394752,0.858176,0.896000,0.928992,1.051776\n",
            "6,101.292610,52.246784,26.798847,13.471584,6.759968,3.444000,1.854368,1.137760,1.184544,1.238144,1.409184\n",
            "7,133.419495,68.733696,35.191551,17.630400,8.828896,4.484064,2.391136,1.467456,1.517312,1.594752,1.813440\n",
            "8,167.319931,86.285568,44.255966,22.253952,11.175776,5.662720,3.043904,1.851232,1.926976,2.013504,2.287520\n",
            "9,206.508636,106.560318,54.658241,27.444639,13.771616,6.982848,3.734368,2.274240,2.339136,2.465120,2.818816\n",
            "Speed Up: \n",
            "0,1,2,4,8,16,32,64,128,256,512,1024\n",
            "0,1.694271,3.645714,6.891144,11.884036,19.693667,29.634477,43.309278,40.079329,42.421726,43.242265,40.354243\n",
            "1,1.786812,3.433483,6.596481,12.909634,24.418796,44.487307,74.393058,103.314475,99.052949,98.652354,88.685176\n",
            "2,1.645085,3.176927,6.152609,12.085891,23.808894,44.464287,78.315501,116.307425,114.704426,111.614433,96.862033\n",
            "3,1.619600,3.133058,6.092703,12.057066,23.921397,45.054735,82.145749,128.371252,129.694763,118.472065,107.226974\n",
            "4,1.636635,3.162856,6.150585,12.196103,24.161181,47.221350,85.292188,134.051663,132.815253,126.509243,109.630466\n",
            "5,1.725330,3.341046,6.507041,12.930979,25.681191,50.167078,91.967603,149.470506,143.160710,138.076543,121.957521\n",
            "6,1.660032,3.218361,6.274486,12.481754,24.874231,48.823751,90.677256,147.789511,141.952519,135.807301,119.323667\n",
            "7,1.632303,3.168475,6.188446,12.352584,24.666845,48.567771,91.078469,148.407177,143.530792,136.561049,120.092754\n",
            "8,1.681975,3.261588,6.359097,12.646203,25.181966,49.698376,92.456265,152.022001,146.046451,139.770269,123.027562\n",
            "9,1.730359,3.353350,6.537605,13.020175,25.947137,51.173102,95.687943,157.122378,152.763250,144.956022,126.767411\n",
            "==531== Profiling application: ./PPM2PGM_Parallel\n",
            "==531== Profiling result:\n",
            "            Type  Time(%)      Time     Calls       Avg       Min       Max  Name\n",
            " GPU activities:   57.67%  3.42470s       330  10.378ms  207.20us  27.587ms  [CUDA memcpy HtoD]\n",
            "                   27.84%  1.65292s       110  15.027ms  23.360us  206.46ms  toGRAY(unsigned char*, unsigned char*, unsigned char*, unsigned char*, __int64)\n",
            "                   14.49%  860.47ms       110  7.8224ms  102.66us  22.651ms  [CUDA memcpy DtoH]\n",
            "      API calls:   60.44%  4.29608s       440  9.7638ms  63.897us  27.735ms  cudaMemcpy\n",
            "                   25.01%  1.77760s       110  16.160ms  308.96us  207.75ms  cudaEventSynchronize\n",
            "                    8.92%  633.66ms       440  1.4401ms  5.2490us  4.4240ms  cudaFree\n",
            "                    5.50%  390.72ms       440  887.99us  3.4080us  220.87ms  cudaMalloc\n",
            "                    0.07%  5.0929ms       110  46.298us  21.745us  478.43us  cudaLaunchKernel\n",
            "                    0.02%  1.1186ms        96  11.652us     150ns  422.11us  cuDeviceGetAttribute\n",
            "                    0.02%  1.0841ms       220  4.9270us  2.8140us  39.609us  cudaEventRecord\n",
            "                    0.01%  902.30us       110  8.2020us  2.8020us  46.380us  cudaEventElapsedTime\n",
            "                    0.01%  875.26us       220  3.9780us     683ns  36.060us  cudaEventCreate\n",
            "                    0.01%  556.50us         1  556.50us  556.50us  556.50us  cuDeviceTotalMem\n",
            "                    0.00%  75.645us         1  75.645us  75.645us  75.645us  cuDeviceGetName\n",
            "                    0.00%  3.4030us         1  3.4030us  3.4030us  3.4030us  cuDeviceGetPCIBusId\n",
            "                    0.00%  2.0640us         3     688ns     147ns  1.0950us  cuDeviceGetCount\n",
            "                    0.00%  1.4760us         2     738ns     259ns  1.2170us  cuDeviceGet\n",
            "                    0.00%     325ns         1     325ns     325ns     325ns  cuDeviceGetUuid\n"
          ],
          "name": "stdout"
        }
      ]
    }
  ]
}